{
 "cells": [
  {
   "cell_type": "markdown",
   "id": "1ec38457",
   "metadata": {},
   "source": [
    "# Importing libraries and Datasets"
   ]
  },
  {
   "cell_type": "code",
   "execution_count": 246,
   "id": "be0c66d0",
   "metadata": {},
   "outputs": [],
   "source": [
    "##import libraries\n",
    "import pandas as pd\n",
    "import numpy as np\n",
    "import seaborn as sns\n",
    "import matplotlib.pyplot as plt\n",
    "%matplotlib inline"
   ]
  },
  {
   "cell_type": "code",
   "execution_count": 247,
   "id": "5ba20003",
   "metadata": {},
   "outputs": [
    {
     "data": {
      "text/html": [
       "<div>\n",
       "<style scoped>\n",
       "    .dataframe tbody tr th:only-of-type {\n",
       "        vertical-align: middle;\n",
       "    }\n",
       "\n",
       "    .dataframe tbody tr th {\n",
       "        vertical-align: top;\n",
       "    }\n",
       "\n",
       "    .dataframe thead th {\n",
       "        text-align: right;\n",
       "    }\n",
       "</style>\n",
       "<table border=\"1\" class=\"dataframe\">\n",
       "  <thead>\n",
       "    <tr style=\"text-align: right;\">\n",
       "      <th></th>\n",
       "      <th>Order ID</th>\n",
       "      <th>Date</th>\n",
       "      <th>Customer ID</th>\n",
       "      <th>Customer Name</th>\n",
       "      <th>Sales Person</th>\n",
       "      <th>Region</th>\n",
       "      <th>Item</th>\n",
       "      <th>Price</th>\n",
       "      <th>Quantity</th>\n",
       "      <th>Revenue</th>\n",
       "    </tr>\n",
       "  </thead>\n",
       "  <tbody>\n",
       "    <tr>\n",
       "      <th>0</th>\n",
       "      <td>1</td>\n",
       "      <td>01/01/2018</td>\n",
       "      <td>11</td>\n",
       "      <td>Company K</td>\n",
       "      <td>Michael Fox</td>\n",
       "      <td>New Mexico</td>\n",
       "      <td>Item 2</td>\n",
       "      <td>199</td>\n",
       "      <td>3</td>\n",
       "      <td>597</td>\n",
       "    </tr>\n",
       "    <tr>\n",
       "      <th>1</th>\n",
       "      <td>2</td>\n",
       "      <td>02/01/2018</td>\n",
       "      <td>1</td>\n",
       "      <td>Company A</td>\n",
       "      <td>Anna Weber</td>\n",
       "      <td>Texas</td>\n",
       "      <td>Item 5</td>\n",
       "      <td>289</td>\n",
       "      <td>7</td>\n",
       "      <td>2023</td>\n",
       "    </tr>\n",
       "    <tr>\n",
       "      <th>2</th>\n",
       "      <td>3</td>\n",
       "      <td>03/01/2018</td>\n",
       "      <td>9</td>\n",
       "      <td>Company I</td>\n",
       "      <td>Kim Fishman</td>\n",
       "      <td>California</td>\n",
       "      <td>Item 4</td>\n",
       "      <td>159</td>\n",
       "      <td>3</td>\n",
       "      <td>477</td>\n",
       "    </tr>\n",
       "    <tr>\n",
       "      <th>3</th>\n",
       "      <td>4</td>\n",
       "      <td>03/01/2018</td>\n",
       "      <td>18</td>\n",
       "      <td>Company R</td>\n",
       "      <td>Oscar Knox</td>\n",
       "      <td>Arizona</td>\n",
       "      <td>Item 5</td>\n",
       "      <td>289</td>\n",
       "      <td>3</td>\n",
       "      <td>867</td>\n",
       "    </tr>\n",
       "    <tr>\n",
       "      <th>4</th>\n",
       "      <td>5</td>\n",
       "      <td>04/01/2018</td>\n",
       "      <td>16</td>\n",
       "      <td>Company P</td>\n",
       "      <td>Oscar Knox</td>\n",
       "      <td>Arizona</td>\n",
       "      <td>Item 3</td>\n",
       "      <td>69</td>\n",
       "      <td>4</td>\n",
       "      <td>276</td>\n",
       "    </tr>\n",
       "  </tbody>\n",
       "</table>\n",
       "</div>"
      ],
      "text/plain": [
       "   Order ID        Date  Customer ID Customer Name Sales Person      Region  \\\n",
       "0         1  01/01/2018           11     Company K  Michael Fox  New Mexico   \n",
       "1         2  02/01/2018            1     Company A   Anna Weber       Texas   \n",
       "2         3  03/01/2018            9     Company I  Kim Fishman  California   \n",
       "3         4  03/01/2018           18     Company R   Oscar Knox     Arizona   \n",
       "4         5  04/01/2018           16     Company P   Oscar Knox     Arizona   \n",
       "\n",
       "     Item  Price  Quantity  Revenue  \n",
       "0  Item 2    199         3      597  \n",
       "1  Item 5    289         7     2023  \n",
       "2  Item 4    159         3      477  \n",
       "3  Item 5    289         3      867  \n",
       "4  Item 3     69         4      276  "
      ]
     },
     "execution_count": 247,
     "metadata": {},
     "output_type": "execute_result"
    }
   ],
   "source": [
    "#import dataset\n",
    "sales_data = pd.read_csv('Interactive Excel Dashboard _ Sample Data.csv')\n",
    "sales_data.head()"
   ]
  },
  {
   "cell_type": "code",
   "execution_count": 248,
   "id": "c4c0c246",
   "metadata": {},
   "outputs": [
    {
     "data": {
      "text/html": [
       "<div>\n",
       "<style scoped>\n",
       "    .dataframe tbody tr th:only-of-type {\n",
       "        vertical-align: middle;\n",
       "    }\n",
       "\n",
       "    .dataframe tbody tr th {\n",
       "        vertical-align: top;\n",
       "    }\n",
       "\n",
       "    .dataframe thead th {\n",
       "        text-align: right;\n",
       "    }\n",
       "</style>\n",
       "<table border=\"1\" class=\"dataframe\">\n",
       "  <thead>\n",
       "    <tr style=\"text-align: right;\">\n",
       "      <th></th>\n",
       "      <th>Item</th>\n",
       "      <th>Price</th>\n",
       "    </tr>\n",
       "  </thead>\n",
       "  <tbody>\n",
       "    <tr>\n",
       "      <th>0</th>\n",
       "      <td>Item 2</td>\n",
       "      <td>199</td>\n",
       "    </tr>\n",
       "    <tr>\n",
       "      <th>1</th>\n",
       "      <td>Item 5</td>\n",
       "      <td>289</td>\n",
       "    </tr>\n",
       "    <tr>\n",
       "      <th>2</th>\n",
       "      <td>Item 4</td>\n",
       "      <td>159</td>\n",
       "    </tr>\n",
       "    <tr>\n",
       "      <th>3</th>\n",
       "      <td>Item 5</td>\n",
       "      <td>289</td>\n",
       "    </tr>\n",
       "    <tr>\n",
       "      <th>4</th>\n",
       "      <td>Item 3</td>\n",
       "      <td>69</td>\n",
       "    </tr>\n",
       "    <tr>\n",
       "      <th>...</th>\n",
       "      <td>...</td>\n",
       "      <td>...</td>\n",
       "    </tr>\n",
       "    <tr>\n",
       "      <th>1995</th>\n",
       "      <td>Item 3</td>\n",
       "      <td>69</td>\n",
       "    </tr>\n",
       "    <tr>\n",
       "      <th>1996</th>\n",
       "      <td>Item 3</td>\n",
       "      <td>69</td>\n",
       "    </tr>\n",
       "    <tr>\n",
       "      <th>1997</th>\n",
       "      <td>Item 1</td>\n",
       "      <td>399</td>\n",
       "    </tr>\n",
       "    <tr>\n",
       "      <th>1998</th>\n",
       "      <td>Item 5</td>\n",
       "      <td>289</td>\n",
       "    </tr>\n",
       "    <tr>\n",
       "      <th>1999</th>\n",
       "      <td>Item 2</td>\n",
       "      <td>199</td>\n",
       "    </tr>\n",
       "  </tbody>\n",
       "</table>\n",
       "<p>2000 rows × 2 columns</p>\n",
       "</div>"
      ],
      "text/plain": [
       "        Item  Price\n",
       "0     Item 2    199\n",
       "1     Item 5    289\n",
       "2     Item 4    159\n",
       "3     Item 5    289\n",
       "4     Item 3     69\n",
       "...      ...    ...\n",
       "1995  Item 3     69\n",
       "1996  Item 3     69\n",
       "1997  Item 1    399\n",
       "1998  Item 5    289\n",
       "1999  Item 2    199\n",
       "\n",
       "[2000 rows x 2 columns]"
      ]
     },
     "execution_count": 248,
     "metadata": {},
     "output_type": "execute_result"
    }
   ],
   "source": [
    "sales_data[['Item','Price']]"
   ]
  },
  {
   "cell_type": "markdown",
   "id": "27af6fcb",
   "metadata": {},
   "source": [
    "### Data Cleaning"
   ]
  },
  {
   "cell_type": "code",
   "execution_count": 249,
   "id": "d8bccf05",
   "metadata": {},
   "outputs": [],
   "source": [
    "sales_data[['Day', 'Month', 'Year']] = split_sales_data = sales_data['Date'].str.split('/', n=2, expand=True)"
   ]
  },
  {
   "cell_type": "code",
   "execution_count": 250,
   "id": "90e33fa7",
   "metadata": {},
   "outputs": [],
   "source": [
    "sales_data.drop('Date', axis=1, inplace=True)\n",
    "sales_data.drop('Day', axis=1, inplace=True)"
   ]
  },
  {
   "cell_type": "code",
   "execution_count": 251,
   "id": "d9bca386",
   "metadata": {},
   "outputs": [],
   "source": [
    "sales_data['Month'].replace(['01','02','03','04','05','06','07','08','09','10','11','12'],\n",
    "                           ['Jan','Feb','Mar','Apr','May','Jun','Jul','Aug','Sep','Oct','Nov','Dec'], inplace=True)"
   ]
  },
  {
   "cell_type": "markdown",
   "id": "ab6e5c30",
   "metadata": {},
   "source": [
    "## Understanding the Data"
   ]
  },
  {
   "cell_type": "code",
   "execution_count": 252,
   "id": "2f2d67e9",
   "metadata": {},
   "outputs": [
    {
     "name": "stdout",
     "output_type": "stream",
     "text": [
      "<class 'pandas.core.frame.DataFrame'>\n",
      "RangeIndex: 2000 entries, 0 to 1999\n",
      "Data columns (total 11 columns):\n",
      " #   Column         Non-Null Count  Dtype \n",
      "---  ------         --------------  ----- \n",
      " 0   Order ID       2000 non-null   int64 \n",
      " 1   Customer ID    2000 non-null   int64 \n",
      " 2   Customer Name  2000 non-null   object\n",
      " 3   Sales Person   2000 non-null   object\n",
      " 4   Region         2000 non-null   object\n",
      " 5   Item           2000 non-null   object\n",
      " 6   Price          2000 non-null   int64 \n",
      " 7   Quantity       2000 non-null   int64 \n",
      " 8   Revenue        2000 non-null   int64 \n",
      " 9   Month          2000 non-null   object\n",
      " 10  Year           2000 non-null   object\n",
      "dtypes: int64(5), object(6)\n",
      "memory usage: 172.0+ KB\n"
     ]
    }
   ],
   "source": [
    "sales_data.info()"
   ]
  },
  {
   "cell_type": "code",
   "execution_count": 253,
   "id": "82fe59d7",
   "metadata": {},
   "outputs": [
    {
     "data": {
      "text/html": [
       "<div>\n",
       "<style scoped>\n",
       "    .dataframe tbody tr th:only-of-type {\n",
       "        vertical-align: middle;\n",
       "    }\n",
       "\n",
       "    .dataframe tbody tr th {\n",
       "        vertical-align: top;\n",
       "    }\n",
       "\n",
       "    .dataframe thead th {\n",
       "        text-align: right;\n",
       "    }\n",
       "</style>\n",
       "<table border=\"1\" class=\"dataframe\">\n",
       "  <thead>\n",
       "    <tr style=\"text-align: right;\">\n",
       "      <th></th>\n",
       "      <th>Order ID</th>\n",
       "      <th>Customer ID</th>\n",
       "      <th>Price</th>\n",
       "      <th>Quantity</th>\n",
       "      <th>Revenue</th>\n",
       "    </tr>\n",
       "  </thead>\n",
       "  <tbody>\n",
       "    <tr>\n",
       "      <th>count</th>\n",
       "      <td>2000.000000</td>\n",
       "      <td>2000.000000</td>\n",
       "      <td>2000.000000</td>\n",
       "      <td>2000.000000</td>\n",
       "      <td>2000.000000</td>\n",
       "    </tr>\n",
       "    <tr>\n",
       "      <th>mean</th>\n",
       "      <td>1000.500000</td>\n",
       "      <td>10.453500</td>\n",
       "      <td>223.670000</td>\n",
       "      <td>4.559500</td>\n",
       "      <td>1014.295500</td>\n",
       "    </tr>\n",
       "    <tr>\n",
       "      <th>std</th>\n",
       "      <td>577.494589</td>\n",
       "      <td>5.754685</td>\n",
       "      <td>112.410004</td>\n",
       "      <td>2.842622</td>\n",
       "      <td>878.388392</td>\n",
       "    </tr>\n",
       "    <tr>\n",
       "      <th>min</th>\n",
       "      <td>1.000000</td>\n",
       "      <td>1.000000</td>\n",
       "      <td>69.000000</td>\n",
       "      <td>0.000000</td>\n",
       "      <td>0.000000</td>\n",
       "    </tr>\n",
       "    <tr>\n",
       "      <th>25%</th>\n",
       "      <td>500.750000</td>\n",
       "      <td>5.000000</td>\n",
       "      <td>159.000000</td>\n",
       "      <td>2.000000</td>\n",
       "      <td>345.000000</td>\n",
       "    </tr>\n",
       "    <tr>\n",
       "      <th>50%</th>\n",
       "      <td>1000.500000</td>\n",
       "      <td>10.000000</td>\n",
       "      <td>199.000000</td>\n",
       "      <td>5.000000</td>\n",
       "      <td>795.000000</td>\n",
       "    </tr>\n",
       "    <tr>\n",
       "      <th>75%</th>\n",
       "      <td>1500.250000</td>\n",
       "      <td>15.000000</td>\n",
       "      <td>289.000000</td>\n",
       "      <td>7.000000</td>\n",
       "      <td>1445.000000</td>\n",
       "    </tr>\n",
       "    <tr>\n",
       "      <th>max</th>\n",
       "      <td>2000.000000</td>\n",
       "      <td>20.000000</td>\n",
       "      <td>399.000000</td>\n",
       "      <td>9.000000</td>\n",
       "      <td>3591.000000</td>\n",
       "    </tr>\n",
       "  </tbody>\n",
       "</table>\n",
       "</div>"
      ],
      "text/plain": [
       "          Order ID  Customer ID        Price     Quantity      Revenue\n",
       "count  2000.000000  2000.000000  2000.000000  2000.000000  2000.000000\n",
       "mean   1000.500000    10.453500   223.670000     4.559500  1014.295500\n",
       "std     577.494589     5.754685   112.410004     2.842622   878.388392\n",
       "min       1.000000     1.000000    69.000000     0.000000     0.000000\n",
       "25%     500.750000     5.000000   159.000000     2.000000   345.000000\n",
       "50%    1000.500000    10.000000   199.000000     5.000000   795.000000\n",
       "75%    1500.250000    15.000000   289.000000     7.000000  1445.000000\n",
       "max    2000.000000    20.000000   399.000000     9.000000  3591.000000"
      ]
     },
     "execution_count": 253,
     "metadata": {},
     "output_type": "execute_result"
    }
   ],
   "source": [
    "sales_data.describe()"
   ]
  },
  {
   "cell_type": "code",
   "execution_count": 254,
   "id": "985aab89",
   "metadata": {},
   "outputs": [
    {
     "data": {
      "text/plain": [
       "Texas         515\n",
       "California    498\n",
       "New Mexico    494\n",
       "Arizona       493\n",
       "Name: Region, dtype: int64"
      ]
     },
     "execution_count": 254,
     "metadata": {},
     "output_type": "execute_result"
    }
   ],
   "source": [
    "sales_data['Region'].value_counts()"
   ]
  },
  {
   "cell_type": "code",
   "execution_count": 255,
   "id": "2cbe29c5",
   "metadata": {},
   "outputs": [
    {
     "data": {
      "text/plain": [
       "Company H    113\n",
       "Company D    113\n",
       "Company M    112\n",
       "Company Q    111\n",
       "Company E    108\n",
       "Company S    107\n",
       "Company I    106\n",
       "Company B    106\n",
       "Company N    104\n",
       "Company J     99\n",
       "Company O     98\n",
       "Company A     98\n",
       "Company R     97\n",
       "Company K     93\n",
       "Company G     92\n",
       "Company C     90\n",
       "Company P     90\n",
       "Company F     88\n",
       "Company T     88\n",
       "Company L     87\n",
       "Name: Customer Name, dtype: int64"
      ]
     },
     "execution_count": 255,
     "metadata": {},
     "output_type": "execute_result"
    }
   ],
   "source": [
    "sales_data['Customer Name'].value_counts()"
   ]
  },
  {
   "cell_type": "code",
   "execution_count": 256,
   "id": "3c756bcf",
   "metadata": {},
   "outputs": [
    {
     "data": {
      "text/plain": [
       "Laura Larsen    275\n",
       "Anna Weber      268\n",
       "Michael Fox     251\n",
       "Andrew James    247\n",
       "Ben Wallace     247\n",
       "Oscar Knox      246\n",
       "Anne Lee        243\n",
       "Kim Fishman     223\n",
       "Name: Sales Person, dtype: int64"
      ]
     },
     "execution_count": 256,
     "metadata": {},
     "output_type": "execute_result"
    }
   ],
   "source": [
    "sales_data['Sales Person'].value_counts()"
   ]
  },
  {
   "cell_type": "code",
   "execution_count": 257,
   "id": "03cde428",
   "metadata": {},
   "outputs": [
    {
     "data": {
      "text/plain": [
       "Item 2    420\n",
       "Item 4    408\n",
       "Item 1    406\n",
       "Item 3    384\n",
       "Item 5    382\n",
       "Name: Item, dtype: int64"
      ]
     },
     "execution_count": 257,
     "metadata": {},
     "output_type": "execute_result"
    }
   ],
   "source": [
    "sales_data['Item'].value_counts()"
   ]
  },
  {
   "cell_type": "code",
   "execution_count": 258,
   "id": "714fa969",
   "metadata": {},
   "outputs": [
    {
     "data": {
      "text/plain": [
       "2028591"
      ]
     },
     "execution_count": 258,
     "metadata": {},
     "output_type": "execute_result"
    }
   ],
   "source": [
    "sales_data['Revenue'].sum()"
   ]
  },
  {
   "cell_type": "code",
   "execution_count": 259,
   "id": "9f090bb0",
   "metadata": {},
   "outputs": [
    {
     "data": {
      "text/plain": [
       "9119"
      ]
     },
     "execution_count": 259,
     "metadata": {},
     "output_type": "execute_result"
    }
   ],
   "source": [
    "sales_data['Quantity'].sum()"
   ]
  },
  {
   "cell_type": "markdown",
   "id": "45540896",
   "metadata": {},
   "source": [
    "### Revenue by Month/Year"
   ]
  },
  {
   "cell_type": "code",
   "execution_count": 260,
   "id": "50743e83",
   "metadata": {},
   "outputs": [
    {
     "data": {
      "image/png": "[encoded data removed]",
      "text/plain": [
       "<Figure size 720x360 with 1 Axes>"
      ]
     },
     "metadata": {
      "needs_background": "light"
     },
     "output_type": "display_data"
    }
   ],
   "source": [
    "sales_data.groupby(['Month']).sum()['Revenue'].sort_values(ascending = True).plot(kind='barh', color= 'green',\n",
    "alpha =0.5, figsize = (10,5), title = 'Revenue Generated by Month', xlabel= 'Month')\n",
    "\n",
    "plt.savefig('Revenue Generated by Month.jpg', dpi=200, transparent=False, bbox_inches='tight')"
   ]
  },
  {
   "cell_type": "code",
   "execution_count": 261,
   "id": "67d37228",
   "metadata": {},
   "outputs": [
    {
     "data": {
      "image/png": "[encoded data removed]",
      "text/plain": [
       "<Figure size 432x288 with 1 Axes>"
      ]
     },
     "metadata": {
      "needs_background": "light"
     },
     "output_type": "display_data"
    }
   ],
   "source": [
    "yearly_sales = sales_data.groupby(['Year']).sum()['Revenue'].sort_values(ascending = False)\n",
    "plt.bar(yearly_sales.index, yearly_sales, fc='blue', ec='black', alpha = 0.5)\n",
    "plt.xlabel('Year',fontsize= 15)\n",
    "plt.ylim(0, 1200000)\n",
    "plt.title('Yearly Revenue', fontsize= 20)\n",
    "\n",
    "for r in range(len(yearly_sales)):\n",
    "    plt.text(r, yearly_sales[r],yearly_sales[r], ha= 'center', va= 'bottom')\n",
    "    \n",
    "plt.savefig('Yearly Revenue.jpg', dpi=200, transparent=False, bbox_inches='tight')"
   ]
  },
  {
   "cell_type": "markdown",
   "id": "76c539d2",
   "metadata": {},
   "source": [
    "### Revenue Generated by Region/Items"
   ]
  },
  {
   "cell_type": "code",
   "execution_count": 266,
   "id": "efa6e454",
   "metadata": {},
   "outputs": [
    {
     "data": {
      "image/png": "[encoded data removed]",
      "text/plain": [
       "<Figure size 720x360 with 1 Axes>"
      ]
     },
     "metadata": {},
     "output_type": "display_data"
    }
   ],
   "source": [
    "explode = [0.1,0.1,0.1,0]\n",
    "sales_data.groupby('Region').sum()['Revenue'].sort_values(ascending = False).head(5).plot(kind='pie', autopct='%.0f%%', \n",
    "startangle= 90, explode= explode, shadow=False, cmap='brg', figsize=(10,5),\n",
    "title = 'Revenue Generated by Regions', ylabel = ' ')\n",
    "\n",
    "plt.savefig('Revenue Generated by Regions.jpg', dpi=200, transparent=False, bbox_inches='tight')"
   ]
  },
  {
   "cell_type": "code",
   "execution_count": 264,
   "id": "ea9dce0f",
   "metadata": {},
   "outputs": [
    {
     "data": {
      "image/png": "[encoded data removed]",
      "text/plain": [
       "<Figure size 720x360 with 1 Axes>"
      ]
     },
     "metadata": {},
     "output_type": "display_data"
    }
   ],
   "source": [
    "explode = [0.1,0.1,0.1,0.1,0]\n",
    "sales_data.groupby('Item').sum()['Revenue'].sort_values(ascending = False).head(5).plot(kind='pie', autopct='%.0f%%', \n",
    "startangle= 90, explode= explode, shadow=False, cmap='brg', figsize=(10,5),\n",
    "title = 'Revenue Generated by Items', ylabel = ' ')\n",
    "\n",
    "plt.savefig('Revenue Generated by Items.jpg', dpi=200, transparent=False, bbox_inches='tight')"
   ]
  },
  {
   "cell_type": "markdown",
   "id": "de72dc50",
   "metadata": {},
   "source": [
    "### Which Sales Person Generated the Highest Revenue?"
   ]
  },
  {
   "cell_type": "code",
   "execution_count": 267,
   "id": "6113719c",
   "metadata": {},
   "outputs": [
    {
     "data": {
      "image/png": "[encoded data removed]",
      "text/plain": [
       "<Figure size 720x360 with 1 Axes>"
      ]
     },
     "metadata": {
      "needs_background": "light"
     },
     "output_type": "display_data"
    }
   ],
   "source": [
    "salesrep_revenue = sales_data.groupby(['Sales Person']).sum()['Revenue'].sort_values(ascending = True).plot(kind='bar', color= 'magenta',\n",
    "alpha =0.5, figsize = (10,5), title = 'Revenue Generated by Sales Person', ylabel= ' ')\n",
    "\n",
    "plt.savefig('Revenue Generated by Sales Person.jpg', dpi=200, transparent=False, bbox_inches='tight')"
   ]
  },
  {
   "cell_type": "markdown",
   "id": "c9d7ae8e",
   "metadata": {},
   "source": [
    "### What Region has the highest Sales? "
   ]
  },
  {
   "cell_type": "code",
   "execution_count": 269,
   "id": "d9b7154f",
   "metadata": {},
   "outputs": [
    {
     "data": {
      "image/png": "[encoded data removed]",
      "text/plain": [
       "<Figure size 432x288 with 1 Axes>"
      ]
     },
     "metadata": {
      "needs_background": "light"
     },
     "output_type": "display_data"
    }
   ],
   "source": [
    "regional_sales = sales_data.groupby(['Region']).sum()['Quantity'].sort_values(ascending = False)\n",
    "plt.bar(regional_sales.index, regional_sales, fc='grey', ec='black', alpha = 0.5)\n",
    "plt.xlabel('Regions',fontsize= 15)\n",
    "plt.title('Quantity Sold by Region', fontsize= 20)\n",
    "\n",
    "for r in range(len(regional_sales)):\n",
    "    plt.text(r, regional_sales[r],regional_sales[r], ha= 'center', va= 'bottom')\n",
    "    \n",
    "plt.savefig('Quantity sold by Region.jpg', dpi=200, transparent=False, bbox_inches='tight')"
   ]
  },
  {
   "cell_type": "markdown",
   "id": "f7dbca9f",
   "metadata": {},
   "source": [
    "### Which Sales Person has the Highest Number of Sales?"
   ]
  },
  {
   "cell_type": "code",
   "execution_count": 271,
   "id": "799a9865",
   "metadata": {},
   "outputs": [
    {
     "data": {
      "image/png": "[encoded data removed]",
      "text/plain": [
       "<Figure size 720x360 with 1 Axes>"
      ]
     },
     "metadata": {
      "needs_background": "light"
     },
     "output_type": "display_data"
    }
   ],
   "source": [
    "sales_data.groupby(['Sales Person']).sum()['Quantity'].sort_values(ascending = True).plot(kind='barh', color= 'yellow',\n",
    "alpha =0.5, figsize = (10,5), title = 'Quantity Sold by Sales Person', xlabel= 'Sales Person')\n",
    "\n",
    "plt.savefig('Quantity Sold by Sales Person.jpg', dpi=200, transparent=False, bbox_inches='tight')"
   ]
  },
  {
   "cell_type": "markdown",
   "id": "a2e04e85",
   "metadata": {},
   "source": [
    "### Which Customer brought in more Revenue?"
   ]
  },
  {
   "cell_type": "code",
   "execution_count": 273,
   "id": "e57f9b31",
   "metadata": {},
   "outputs": [
    {
     "data": {
      "image/png": "[encoded data removed]",
      "text/plain": [
       "<Figure size 648x360 with 1 Axes>"
      ]
     },
     "metadata": {
      "needs_background": "light"
     },
     "output_type": "display_data"
    }
   ],
   "source": [
    "customer_revenue = sales_data.groupby(['Customer Name']).sum()['Revenue'].sort_values(ascending = False).plot(kind='bar', color= 'orange',\n",
    "alpha =0.5, figsize = (9,5), title = 'Customer with Highest Revenue')\n",
    "\n",
    "plt.savefig('Revenue Generated by Customers.jpg', dpi=200, transparent=False, bbox_inches='tight')"
   ]
  },
  {
   "cell_type": "markdown",
   "id": "8277695d",
   "metadata": {},
   "source": [
    "### What Item did the Customers buy the most?"
   ]
  },
  {
   "cell_type": "code",
   "execution_count": 274,
   "id": "a60d2dc7",
   "metadata": {},
   "outputs": [
    {
     "data": {
      "image/png": "[encoded data removed]",
      "text/plain": [
       "<Figure size 720x360 with 1 Axes>"
      ]
     },
     "metadata": {
      "needs_background": "light"
     },
     "output_type": "display_data"
    }
   ],
   "source": [
    "item = sales_data.groupby('Item').count()['Customer Name'].sort_values(ascending = True).plot(kind='barh', color= 'purple',\n",
    "alpha =0.5, figsize = (10,5), title = 'Popular Items')\n",
    "\n",
    "plt.savefig('Popular Item Bought.jpg', dpi=200, transparent=False, bbox_inches='tight')"
   ]
  },
  {
   "cell_type": "markdown",
   "id": "87add5e0",
   "metadata": {},
   "source": [
    "### What item is most expensive?"
   ]
  },
  {
   "cell_type": "code",
   "execution_count": 275,
   "id": "01e5cb4f",
   "metadata": {},
   "outputs": [
    {
     "data": {
      "image/png": "[encoded data removed]",
      "text/plain": [
       "<Figure size 720x360 with 1 Axes>"
      ]
     },
     "metadata": {
      "needs_background": "light"
     },
     "output_type": "display_data"
    }
   ],
   "source": [
    "item = sales_data.groupby('Item').max()['Price'].sort_values(ascending = True).plot(kind='barh', color= 'purple',\n",
    "alpha =0.5, figsize = (10,5), title = 'Expensive Items')\n",
    "\n",
    "plt.savefig('Expensive Items.jpg', dpi=200, transparent=False, bbox_inches='tight')"
   ]
  },
  {
   "cell_type": "markdown",
   "id": "fa549634",
   "metadata": {},
   "source": [
    "### Is there any correlation between quantity and revenue?"
   ]
  },
  {
   "cell_type": "code",
   "execution_count": 244,
   "id": "9a8543d0",
   "metadata": {},
   "outputs": [
    {
     "data": {
      "text/html": [
       "<div>\n",
       "<style scoped>\n",
       "    .dataframe tbody tr th:only-of-type {\n",
       "        vertical-align: middle;\n",
       "    }\n",
       "\n",
       "    .dataframe tbody tr th {\n",
       "        vertical-align: top;\n",
       "    }\n",
       "\n",
       "    .dataframe thead th {\n",
       "        text-align: right;\n",
       "    }\n",
       "</style>\n",
       "<table border=\"1\" class=\"dataframe\">\n",
       "  <thead>\n",
       "    <tr style=\"text-align: right;\">\n",
       "      <th></th>\n",
       "      <th>Order ID</th>\n",
       "      <th>Customer ID</th>\n",
       "      <th>Price</th>\n",
       "      <th>Quantity</th>\n",
       "      <th>Revenue</th>\n",
       "    </tr>\n",
       "  </thead>\n",
       "  <tbody>\n",
       "    <tr>\n",
       "      <th>Order ID</th>\n",
       "      <td>1.000000</td>\n",
       "      <td>-0.038712</td>\n",
       "      <td>0.015840</td>\n",
       "      <td>-0.014527</td>\n",
       "      <td>0.001072</td>\n",
       "    </tr>\n",
       "    <tr>\n",
       "      <th>Customer ID</th>\n",
       "      <td>-0.038712</td>\n",
       "      <td>1.000000</td>\n",
       "      <td>-0.030497</td>\n",
       "      <td>-0.014387</td>\n",
       "      <td>-0.013271</td>\n",
       "    </tr>\n",
       "    <tr>\n",
       "      <th>Price</th>\n",
       "      <td>0.015840</td>\n",
       "      <td>-0.030497</td>\n",
       "      <td>1.000000</td>\n",
       "      <td>-0.017308</td>\n",
       "      <td>0.577710</td>\n",
       "    </tr>\n",
       "    <tr>\n",
       "      <th>Quantity</th>\n",
       "      <td>-0.014527</td>\n",
       "      <td>-0.014387</td>\n",
       "      <td>-0.017308</td>\n",
       "      <td>1.000000</td>\n",
       "      <td>0.720722</td>\n",
       "    </tr>\n",
       "    <tr>\n",
       "      <th>Revenue</th>\n",
       "      <td>0.001072</td>\n",
       "      <td>-0.013271</td>\n",
       "      <td>0.577710</td>\n",
       "      <td>0.720722</td>\n",
       "      <td>1.000000</td>\n",
       "    </tr>\n",
       "  </tbody>\n",
       "</table>\n",
       "</div>"
      ],
      "text/plain": [
       "             Order ID  Customer ID     Price  Quantity   Revenue\n",
       "Order ID     1.000000    -0.038712  0.015840 -0.014527  0.001072\n",
       "Customer ID -0.038712     1.000000 -0.030497 -0.014387 -0.013271\n",
       "Price        0.015840    -0.030497  1.000000 -0.017308  0.577710\n",
       "Quantity    -0.014527    -0.014387 -0.017308  1.000000  0.720722\n",
       "Revenue      0.001072    -0.013271  0.577710  0.720722  1.000000"
      ]
     },
     "execution_count": 244,
     "metadata": {},
     "output_type": "execute_result"
    }
   ],
   "source": [
    "coer = sales_data.corr()\n",
    "coer"
   ]
  },
  {
   "cell_type": "code",
   "execution_count": 291,
   "id": "c27cdcf6",
   "metadata": {},
   "outputs": [
    {
     "data": {
      "image/png": "[encoded data removed]",
      "text/plain": [
       "<Figure size 432x288 with 2 Axes>"
      ]
     },
     "metadata": {
      "needs_background": "light"
     },
     "output_type": "display_data"
    }
   ],
   "source": [
    "sns.heatmap(coer, cmap='ocean', vmin= -1, vmax=1, annot=True, fmt='.2f', linewidth=2, linecolor='black', square=True)\n",
    "\n",
    "plt.savefig('Correlation heatmap', dpi=200, transparent=False, bbox_inches='tight')"
   ]
  },
  {
   "cell_type": "code",
   "execution_count": null,
   "id": "1bd8a7a5",
   "metadata": {},
   "outputs": [],
   "source": []
  }
 ],
 "metadata": {
  "kernelspec": {
   "display_name": "Python 3 (ipykernel)",
   "language": "python",
   "name": "python3"
  },
  "language_info": {
   "codemirror_mode": {
    "name": "ipython",
    "version": 3
   },
   "file_extension": ".py",
   "mimetype": "text/x-python",
   "name": "python",
   "nbconvert_exporter": "python",
   "pygments_lexer": "ipython3",
   "version": "3.9.12"
  }
 },
 "nbformat": 4,
 "nbformat_minor": 5
}
